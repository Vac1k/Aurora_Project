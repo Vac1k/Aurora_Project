{
  "cells": [
    {
      "cell_type": "markdown",
      "metadata": {
        "id": "view-in-github",
        "colab_type": "text"
      },
      "source": [
        "<a href=\"https://colab.research.google.com/github/Vac1k/Aurora_Project/blob/main/Aurora_Predict_model_5.ipynb\" target=\"_parent\"><img src=\"https://colab.research.google.com/assets/colab-badge.svg\" alt=\"Open In Colab\"/></a>"
      ]
    },
    {
      "cell_type": "markdown",
      "metadata": {
        "id": "m2vorGx9XEHm"
      },
      "source": [
        "Імпорт бібліотек"
      ]
    },
    {
      "cell_type": "code",
      "execution_count": 2,
      "metadata": {
        "collapsed": true,
        "id": "lGm9dkmmROGw"
      },
      "outputs": [],
      "source": [
        "import difflib\n",
        "import pandas as pd\n",
        "import numpy as np\n",
        "from sentence_transformers import SentenceTransformer\n",
        "from sklearn.metrics.pairwise import cosine_similarity\n",
        "from mlxtend.frequent_patterns import apriori, association_rules\n",
        "from docx import Document"
      ]
    },
    {
      "cell_type": "markdown",
      "metadata": {
        "id": "R0ySYoldbo2C"
      },
      "source": [
        "Завантаження та обробка даних про товари"
      ]
    },
    {
      "cell_type": "code",
      "execution_count": 3,
      "metadata": {
        "id": "DY0eNAq9RW-G"
      },
      "outputs": [],
      "source": [
        "file_path_inventory = \"/content/Залишки по ТТ.xlsx\"\n",
        "inventory_df = pd.read_excel(file_path_inventory)"
      ]
    },
    {
      "cell_type": "code",
      "execution_count": 4,
      "metadata": {
        "id": "Koq-q_r-RiWg"
      },
      "outputs": [],
      "source": [
        "inventory_df = inventory_df.rename(columns={\n",
        "    \"Рівень категорії 3\": \"Category_Level3\",\n",
        "    \"Назва товару\": \"Product_Full_Name\",\n",
        "    \"К-сть залишків на кінець дня\": \"Stock_Quantity_End_Day\",\n",
        "    \"Собівартість залишків на кінець дня\": \"Stock_Cost_End_Day\"\n",
        "})"
      ]
    },
    {
      "cell_type": "markdown",
      "metadata": {
        "id": "jaHWe2YTWXKg"
      },
      "source": []
    },
    {
      "cell_type": "code",
      "execution_count": 5,
      "metadata": {
        "id": "R1VEs_eYRlJ8"
      },
      "outputs": [],
      "source": [
        "inventory_df[\"Product_ID\"] = inventory_df[\"Product_Full_Name\"].str.extract(r'^(\\d+)')\n",
        "inventory_df[\"Product_Name\"] = inventory_df[\"Product_Full_Name\"].str.replace(r'^\\d+\\s+', '', regex=True)\n",
        "inventory_df[\"Product_ID\"] = pd.to_numeric(inventory_df[\"Product_ID\"], errors='coerce')\n",
        "inventory_df[\"Calculated_Price\"] = (inventory_df[\"Stock_Cost_End_Day\"] / inventory_df[\"Stock_Quantity_End_Day\"]).round(3)"
      ]
    },
    {
      "cell_type": "markdown",
      "metadata": {
        "id": "zZzz5qF6b-7z"
      },
      "source": [
        "Завантаження подій та їх аналіз"
      ]
    },
    {
      "cell_type": "code",
      "execution_count": 6,
      "metadata": {
        "id": "5Q0qOY4SRmV_"
      },
      "outputs": [],
      "source": [
        "def load_events_from_docx():\n",
        "    doc = Document(\"/content/12123.docx\")\n",
        "    events_dict, current_event = {}, None\n",
        "\n",
        "    for paragraph in doc.paragraphs:\n",
        "        text = paragraph.text.strip()\n",
        "        if not text:\n",
        "            continue\n",
        "        if text[0].isdigit() and \".\" in text:\n",
        "            current_event = text.split(\". \", 1)[1]\n",
        "            events_dict[current_event] = []\n",
        "        elif current_event:\n",
        "            events_dict[current_event].append(text)\n",
        "    return events_dict\n",
        "\n",
        "events_data = load_events_from_docx()"
      ]
    },
    {
      "cell_type": "code",
      "execution_count": 7,
      "metadata": {
        "id": "nagBuJn4pjOx",
        "colab": {
          "base_uri": "https://localhost:8080/"
        },
        "outputId": "f075252d-74a3-40fa-c752-ae86e2589fbb"
      },
      "outputs": [
        {
          "output_type": "stream",
          "name": "stderr",
          "text": [
            "/usr/local/lib/python3.11/dist-packages/huggingface_hub/utils/_auth.py:94: UserWarning: \n",
            "The secret `HF_TOKEN` does not exist in your Colab secrets.\n",
            "To authenticate with the Hugging Face Hub, create a token in your settings tab (https://huggingface.co/settings/tokens), set it as secret in your Google Colab and restart your session.\n",
            "You will be able to reuse this secret in all of your notebooks.\n",
            "Please note that authentication is recommended but still optional to access public models or datasets.\n",
            "  warnings.warn(\n"
          ]
        }
      ],
      "source": [
        "model = SentenceTransformer('paraphrase-multilingual-MiniLM-L12-v2')\n",
        "inventory_df[\"Product_Vector\"] = inventory_df[\"Product_Name\"].apply(lambda x: model.encode(x))\n"
      ]
    },
    {
      "cell_type": "markdown",
      "metadata": {
        "id": "7UXpqXmRcDvV"
      },
      "source": [
        "Векторизація товарів для AI-пошуку"
      ]
    },
    {
      "cell_type": "code",
      "execution_count": 8,
      "metadata": {
        "id": "fAFRzyJxgLOa"
      },
      "outputs": [],
      "source": [
        "df1 = pd.read_excel(\"товари у чеку_1.xlsx\")\n",
        "basket = df1.groupby([\"Номер чеку\", \"Назва товару\"]).size().unstack(fill_value=0)\n",
        "basket[basket > 1] = 1"
      ]
    },
    {
      "cell_type": "code",
      "execution_count": 9,
      "metadata": {
        "colab": {
          "base_uri": "https://localhost:8080/"
        },
        "id": "Ou9n00zAgRjF",
        "outputId": "70c1f292-7cac-411b-819a-12855a49379e"
      },
      "outputs": [
        {
          "output_type": "stream",
          "name": "stderr",
          "text": [
            "/usr/local/lib/python3.11/dist-packages/mlxtend/frequent_patterns/fpcommon.py:161: DeprecationWarning: DataFrames with non-bool types result in worse computationalperformance and their support might be discontinued in the future.Please use a DataFrame with bool type\n",
            "  warnings.warn(\n"
          ]
        }
      ],
      "source": [
        "# 🧠 Apriori + правила\n",
        "frequent_itemsets = apriori(basket, min_support=0.01, use_colnames=True)\n",
        "rules = association_rules(frequent_itemsets, metric=\"lift\", min_threshold=1.0)"
      ]
    },
    {
      "cell_type": "markdown",
      "metadata": {
        "id": "53-fnqSjcM9d"
      },
      "source": [
        "Фільтрація товарів за подією"
      ]
    },
    {
      "cell_type": "code",
      "execution_count": 10,
      "metadata": {
        "id": "8HbkxODpRqf3"
      },
      "outputs": [],
      "source": [
        "\n",
        "\n",
        "def filter_by_event(event_name):\n",
        "    products = events_data.get(event_name, [])\n",
        "    matched_rows = []\n",
        "\n",
        "    for product in products:\n",
        "        match = difflib.get_close_matches(product, inventory_df[\"Product_Name\"], n=1, cutoff=0.6)\n",
        "        if match:\n",
        "            row = inventory_df[inventory_df[\"Product_Name\"] == match[0]]\n",
        "            if not row.empty:\n",
        "                matched_rows.append(row)\n",
        "\n",
        "    if matched_rows:\n",
        "        return pd.concat(matched_rows)[[\"Product_Name\", \"Calculated_Price\"]]\n",
        "    else:\n",
        "        return pd.DataFrame(columns=[\"Product_Name\", \"Calculated_Price\"])"
      ]
    },
    {
      "cell_type": "code",
      "execution_count": 11,
      "metadata": {
        "id": "UFc4AdXkgaWF"
      },
      "outputs": [],
      "source": [
        "def recommend_products(query, top_n=5):\n",
        "    q_vec = model.encode(query)\n",
        "    inventory_df[\"Similarity\"] = inventory_df[\"Product_Vector\"].apply(lambda vec: cosine_similarity([q_vec], [vec])[0][0])\n",
        "    return inventory_df.sort_values(\"Similarity\", ascending=False).head(top_n)[[\"Product_Name\", \"Calculated_Price\", \"Similarity\"]]"
      ]
    },
    {
      "cell_type": "code",
      "execution_count": 12,
      "metadata": {
        "id": "U5F7018lrgqK"
      },
      "outputs": [],
      "source": [
        "def recommend_by_product(product_name):\n",
        "    if rules.empty or 'consequents' not in rules.columns:\n",
        "        print(\"⚠️ Немає асоціативних правил або колонка 'consequents' відсутня.\")\n",
        "        return recommend_products(product_name, top_n=5)\n",
        "\n",
        "    related = rules[rules[\"antecedents\"].apply(lambda x: product_name in list(x))]\n",
        "\n",
        "    if related.empty:\n",
        "        print(\"⚠️ Немає супутніх покупок для цього товару.\")\n",
        "        return recommend_products(product_name, top_n=5)\n",
        "\n",
        "    consequents = related[\"consequents\"].explode().value_counts().head(5).index\n",
        "    return inventory_df[inventory_df[\"Product_Name\"].isin(consequents)][[\"Product_Name\", \"Calculated_Price\"]]"
      ]
    },
    {
      "cell_type": "code",
      "execution_count": 17,
      "metadata": {
        "id": "duqgauTeggtK"
      },
      "outputs": [],
      "source": [
        "def process_user_query(query):\n",
        "    query = query.lower().strip()\n",
        "\n",
        "    # 🔍 Спочатку AI-векторизація\n",
        "    initial = recommend_products(query, top_n=1)\n",
        "    if initial.empty:\n",
        "        print(\"⚠️ Не знайдено релевантних товарів.\")\n",
        "        return pd.DataFrame()\n",
        "\n",
        "    base_product = initial.iloc[0][\"Product_Name\"]\n",
        "    print(f\"🛍 Найближчий товар: {base_product}\")\n",
        "\n",
        "    # 🎯 Додатково: якщо виявлено подію, додамо товари події до списку\n",
        "    matched_event = next((event for event in events_data if event.lower() in query), None)\n",
        "    if matched_event:\n",
        "        print(f\"🎯 Також виявлено подію: {matched_event}\")\n",
        "        event_items = filter_by_event(matched_event)\n",
        "    else:\n",
        "        event_items = pd.DataFrame()\n",
        "\n",
        "    # 🧠 Супутні покупки\n",
        "    if rules.empty or 'consequents' not in rules.columns:\n",
        "        print(\"⚠️ Немає асоціативних правил. Повертаю AI-рекомендації.\")\n",
        "        ai_result = recommend_products(query, top_n=5)\n",
        "    else:\n",
        "        related = rules[rules[\"antecedents\"].apply(lambda x: base_product in list(x))]\n",
        "        if related.empty:\n",
        "            print(\"⚠️ Немає супутніх покупок. Повертаю AI-рекомендації.\")\n",
        "            ai_result = recommend_products(query, top_n=5)\n",
        "        else:\n",
        "            consequents = related[\"consequents\"].explode().value_counts().head(5).index\n",
        "            ai_result = inventory_df[inventory_df[\"Product_Name\"].isin(consequents)][[\"Product_Name\", \"Calculated_Price\"]]\n",
        "\n",
        "    # 🔗 Об’єднуємо результати (AI + події, якщо є)\n",
        "    final_result = pd.concat([ai_result, event_items]).drop_duplicates(subset=[\"Product_Name\"]).head(5)\n",
        "\n",
        "    return final_result"
      ]
    },
    {
      "cell_type": "markdown",
      "metadata": {
        "id": "T9WQQekucUyx"
      },
      "source": [
        "AI-пошук товарів"
      ]
    },
    {
      "cell_type": "markdown",
      "metadata": {
        "id": "5LWzLRx0ch06"
      },
      "source": [
        "Speech Recognition"
      ]
    },
    {
      "cell_type": "code",
      "execution_count": 18,
      "metadata": {
        "id": "agczuc42RzA5"
      },
      "outputs": [],
      "source": [
        "def recognize_speech():\n",
        "    recognizer = sr.Recognizer()\n",
        "    try:\n",
        "        with sr.Microphone() as source:\n",
        "            audio = recognizer.listen(source)\n",
        "            return recognizer.recognize_google(audio, language=\"uk-UA\")\n",
        "    except (sr.UnknownValueError, sr.RequestError, OSError):\n",
        "        return None"
      ]
    },
    {
      "cell_type": "markdown",
      "metadata": {
        "id": "eya9HalBcnPO"
      },
      "source": [
        "Основна логіка програми"
      ]
    },
    {
      "cell_type": "code",
      "execution_count": null,
      "metadata": {
        "colab": {
          "base_uri": "https://localhost:8080/"
        },
        "id": "HbW9YYxKR20q",
        "outputId": "43286e81-d04d-4ea4-dc7e-130943e123d9"
      },
      "outputs": [
        {
          "output_type": "stream",
          "name": "stdout",
          "text": [
            "Введи 'вихід', щоб завершити.\n",
            "\n",
            "📝 Ваш запит: Хочу щось до чаю\n",
            "Помилка: name 'process_user_query' is not defined\n",
            "\n"
          ]
        }
      ],
      "source": [
        "# 🧾 Інтерактивний ввід запиту користувачем\n",
        "def run_assistant():\n",
        "    print(\"Введи 'вихід', щоб завершити.\\n\")\n",
        "\n",
        "    while True:\n",
        "        user_input = input(\"📝 Ваш запит: \")\n",
        "        if user_input.lower() in [\"вихід\", \"exit\", \"quit\"]:\n",
        "            print(\"Дякую за використання Асистента! Гарного дня!\")\n",
        "            break\n",
        "        try:\n",
        "            results = process_user_query(user_input)\n",
        "            print(\"\\n Рекомендовані товари:\")\n",
        "            print(results[[\"Product_Name\", \"Calculated_Price\"]].to_string(index=False))\n",
        "            print(\"\\n\")\n",
        "        except Exception as e:\n",
        "            print(f\"Помилка: {e}\\n\")\n",
        "\n",
        "# 🔽 Запуск\n",
        "run_assistant()"
      ]
    }
  ],
  "metadata": {
    "accelerator": "GPU",
    "colab": {
      "gpuType": "T4",
      "provenance": [],
      "include_colab_link": true
    },
    "kernelspec": {
      "display_name": "Python 3",
      "name": "python3"
    },
    "language_info": {
      "name": "python"
    }
  },
  "nbformat": 4,
  "nbformat_minor": 0
}