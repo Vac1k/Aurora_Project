{
  "nbformat": 4,
  "nbformat_minor": 0,
  "metadata": {
    "colab": {
      "provenance": [],
      "gpuType": "T4",
      "authorship_tag": "ABX9TyNeP/0R4FE2QfoLNliqc0cr",
      "include_colab_link": true
    },
    "kernelspec": {
      "name": "python3",
      "display_name": "Python 3"
    },
    "language_info": {
      "name": "python"
    },
    "accelerator": "GPU"
  },
  "cells": [
    {
      "cell_type": "markdown",
      "metadata": {
        "id": "view-in-github",
        "colab_type": "text"
      },
      "source": [
        "<a href=\"https://colab.research.google.com/github/Vac1k/Aurora_Project/blob/main/AuroraModelWeb.ipynb\" target=\"_parent\"><img src=\"https://colab.research.google.com/assets/colab-badge.svg\" alt=\"Open In Colab\"/></a>"
      ]
    },
    {
      "cell_type": "code",
      "execution_count": 8,
      "metadata": {
        "colab": {
          "base_uri": "https://localhost:8080/"
        },
        "id": "nGjnGPKe5BKd",
        "outputId": "59208133-1ee1-4069-c773-c4098b4564de"
      },
      "outputs": [
        {
          "output_type": "stream",
          "name": "stdout",
          "text": [
            "Authtoken saved to configuration file: /root/.config/ngrok/ngrok.yml\n",
            "Requirement already satisfied: flask in /usr/local/lib/python3.11/dist-packages (3.1.0)\n",
            "Requirement already satisfied: pyngrok in /usr/local/lib/python3.11/dist-packages (7.2.3)\n",
            "Requirement already satisfied: Werkzeug>=3.1 in /usr/local/lib/python3.11/dist-packages (from flask) (3.1.3)\n",
            "Requirement already satisfied: Jinja2>=3.1.2 in /usr/local/lib/python3.11/dist-packages (from flask) (3.1.5)\n",
            "Requirement already satisfied: itsdangerous>=2.2 in /usr/local/lib/python3.11/dist-packages (from flask) (2.2.0)\n",
            "Requirement already satisfied: click>=8.1.3 in /usr/local/lib/python3.11/dist-packages (from flask) (8.1.8)\n",
            "Requirement already satisfied: blinker>=1.9 in /usr/local/lib/python3.11/dist-packages (from flask) (1.9.0)\n",
            "Requirement already satisfied: PyYAML>=5.1 in /usr/local/lib/python3.11/dist-packages (from pyngrok) (6.0.2)\n",
            "Requirement already satisfied: MarkupSafe>=2.0 in /usr/local/lib/python3.11/dist-packages (from Jinja2>=3.1.2->flask) (3.0.2)\n",
            "🔗 Посилання для тестування: NgrokTunnel: \"https://20b0-34-125-119-41.ngrok-free.app\" -> \"http://localhost:5000\"\n",
            " * Serving Flask app '__main__'\n",
            " * Debug mode: off\n"
          ]
        },
        {
          "output_type": "stream",
          "name": "stderr",
          "text": [
            "INFO:werkzeug:\u001b[31m\u001b[1mWARNING: This is a development server. Do not use it in a production deployment. Use a production WSGI server instead.\u001b[0m\n",
            " * Running on http://127.0.0.1:5000\n",
            "INFO:werkzeug:\u001b[33mPress CTRL+C to quit\u001b[0m\n",
            "WARNING:pyngrok.process.ngrok:t=2025-02-22T19:07:08+0000 lvl=warn msg=\"failed to check for update\" obj=updater err=\"Post \\\"https://update.equinox.io/check\\\": context deadline exceeded\"\n",
            "INFO:werkzeug:127.0.0.1 - - [22/Feb/2025 19:09:13] \"GET / HTTP/1.1\" 200 -\n",
            "INFO:werkzeug:127.0.0.1 - - [22/Feb/2025 19:09:22] \"POST /recommend HTTP/1.1\" 200 -\n",
            "INFO:werkzeug:127.0.0.1 - - [22/Feb/2025 19:09:38] \"POST /recommend HTTP/1.1\" 200 -\n",
            "INFO:werkzeug:127.0.0.1 - - [22/Feb/2025 19:09:48] \"POST /recommend HTTP/1.1\" 200 -\n",
            "INFO:werkzeug:127.0.0.1 - - [22/Feb/2025 19:13:09] \"GET / HTTP/1.1\" 200 -\n",
            "INFO:werkzeug:127.0.0.1 - - [22/Feb/2025 19:13:28] \"\u001b[33mGET /favicon.ico HTTP/1.1\u001b[0m\" 404 -\n",
            "INFO:werkzeug:127.0.0.1 - - [22/Feb/2025 19:13:29] \"GET / HTTP/1.1\" 200 -\n",
            "INFO:werkzeug:127.0.0.1 - - [22/Feb/2025 19:13:30] \"\u001b[33mGET /favicon.ico HTTP/1.1\u001b[0m\" 404 -\n",
            "INFO:werkzeug:127.0.0.1 - - [22/Feb/2025 19:13:39] \"POST /recommend HTTP/1.1\" 200 -\n",
            "INFO:werkzeug:127.0.0.1 - - [22/Feb/2025 19:13:58] \"POST /recommend HTTP/1.1\" 200 -\n",
            "INFO:werkzeug:127.0.0.1 - - [22/Feb/2025 19:14:17] \"POST /recommend HTTP/1.1\" 200 -\n"
          ]
        }
      ],
      "source": [
        "!ngrok config add-authtoken 2tPMHBHBtoCyuWXLK2cgkhcpNvl_3g3KYNbVTLmfjr4QgyvQ7\n",
        "!pip install flask pyngrok\n",
        "from flask import Flask, request, jsonify, render_template_string\n",
        "from pyngrok import ngrok\n",
        "import pandas as pd\n",
        "import numpy as np\n",
        "from sentence_transformers import SentenceTransformer\n",
        "from sklearn.metrics.pairwise import cosine_similarity\n",
        "import gensim.downloader as api\n",
        "\n",
        "app = Flask(__name__)\n",
        "\n",
        "file_path_inventory = \"/content/Залишки по ТТ.xlsx\"\n",
        "inventory_df = pd.read_excel(file_path_inventory)\n",
        "inventory_df = inventory_df.rename(columns={\n",
        "    \"Рівень категорії 3\": \"Category_Level3\",\n",
        "    \"Назва товару\": \"Product_Full_Name\",\n",
        "    \"К-сть залишків на кінець дня\": \"Stock_Quantity_End_Day\",\n",
        "    \"Собівартість залишків на кінець дня\": \"Stock_Cost_End_Day\"\n",
        "})\n",
        "inventory_df[\"Product_ID\"] = pd.to_numeric(inventory_df[\"Product_Full_Name\"].str.extract(r'^(\\d+)')[0], errors='coerce')\n",
        "inventory_df[\"Product_Name\"] = inventory_df[\"Product_Full_Name\"].str.replace(r'^\\d+\\s+', '', regex=True)\n",
        "inventory_df[\"Calculated_Price\"] = (inventory_df[\"Stock_Cost_End_Day\"] / inventory_df[\"Stock_Quantity_End_Day\"]).round(3)\n",
        "\n",
        "ai_model = SentenceTransformer('paraphrase-multilingual-MiniLM-L12-v2')\n",
        "inventory_df[\"Product_Vector\"] = inventory_df[\"Product_Name\"].apply(lambda x: ai_model.encode(x))\n",
        "word2vec_model = api.load(\"word2vec-ruscorpora-300\")\n",
        "\n",
        "def find_similar_products(query, top_n=5):\n",
        "    query_vector = np.array(ai_model.encode(query)).reshape(1, -1)\n",
        "    product_vectors = np.array(list(inventory_df[\"Product_Vector\"]))\n",
        "    similarity_scores = cosine_similarity(query_vector, product_vectors).flatten()\n",
        "    top_indices = similarity_scores.argsort()[-top_n:][::-1]\n",
        "    return inventory_df.iloc[top_indices][[\"Product_Name\", \"Category_Level3\", \"Stock_Quantity_End_Day\"]].to_dict(orient=\"records\")\n",
        "\n",
        "html_template = '''\n",
        "<!DOCTYPE html>\n",
        "<html lang=\"uk\">\n",
        "<head>\n",
        "    <meta charset=\"UTF-8\">\n",
        "    <title>AI Рекомендації</title>\n",
        "    <script>\n",
        "        async function getRecommendations() {\n",
        "            const userQuery = document.getElementById(\"query\").value;\n",
        "            const response = await fetch('/recommend', {\n",
        "                method: 'POST',\n",
        "                headers: {'Content-Type': 'application/json'},\n",
        "                body: JSON.stringify({query: userQuery})\n",
        "            });\n",
        "            const data = await response.json();\n",
        "            document.getElementById(\"results\").innerHTML = data.map((item, i) =>\n",
        "                `<p><strong>${i+1}.</strong> ${item.Product_Name} - ${item.Category_Level3} - Кількість: ${item.Stock_Quantity_End_Day}</p>`\n",
        "            ).join('');\n",
        "        }\n",
        "    </script>\n",
        "</head>\n",
        "<body>\n",
        "    <h2>🔍 Введіть ваш запит для отримання рекомендацій</h2>\n",
        "    <input type=\"text\" id=\"query\" placeholder=\"Введіть запит...\">\n",
        "    <button onclick=\"getRecommendations()\">Пошук</button>\n",
        "    <div id=\"results\"></div>\n",
        "</body>\n",
        "</html>\n",
        "'''\n",
        "\n",
        "@app.route('/')\n",
        "def index():\n",
        "    return render_template_string(html_template)\n",
        "\n",
        "@app.route('/recommend', methods=['POST'])\n",
        "def recommend():\n",
        "    data = request.json\n",
        "    query = data.get('query', '')\n",
        "    recommendations = find_similar_products(query, top_n=5)\n",
        "    return jsonify(recommendations)\n",
        "\n",
        "port = 5000\n",
        "public_url = ngrok.connect(port)\n",
        "print(f\"🔗 Посилання для тестування: {public_url}\")\n",
        "\n",
        "app.run(port=port)"
      ]
    },
    {
      "cell_type": "code",
      "source": [],
      "metadata": {
        "id": "QnB8BN9QDNF_"
      },
      "execution_count": null,
      "outputs": []
    }
  ]
}